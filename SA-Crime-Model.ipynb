{
 "cells": [
  {
   "cell_type": "code",
   "execution_count": 1,
   "id": "193e756f-850f-4720-989b-c931292a7bf6",
   "metadata": {},
   "outputs": [],
   "source": [
    "#importing necessary libraries for my Machine Learning project"
   ]
  },
  {
   "cell_type": "code",
   "execution_count": 2,
   "id": "0d4da1cc-62f3-4d21-b445-318be163e792",
   "metadata": {},
   "outputs": [
    {
     "name": "stdout",
     "output_type": "stream",
     "text": [
      "Requirement already satisfied: statsmodels in /usr/local/python/3.12.1/lib/python3.12/site-packages (0.14.5)\n",
      "Requirement already satisfied: numpy<3,>=1.22.3 in /home/codespace/.local/lib/python3.12/site-packages (from statsmodels) (2.3.1)\n",
      "Requirement already satisfied: scipy!=1.9.2,>=1.8 in /home/codespace/.local/lib/python3.12/site-packages (from statsmodels) (1.16.0)\n",
      "Requirement already satisfied: pandas!=2.1.0,>=1.4 in /home/codespace/.local/lib/python3.12/site-packages (from statsmodels) (2.3.1)\n",
      "Requirement already satisfied: patsy>=0.5.6 in /usr/local/python/3.12.1/lib/python3.12/site-packages (from statsmodels) (1.0.1)\n",
      "Requirement already satisfied: packaging>=21.3 in /home/codespace/.local/lib/python3.12/site-packages (from statsmodels) (25.0)\n",
      "Requirement already satisfied: python-dateutil>=2.8.2 in /home/codespace/.local/lib/python3.12/site-packages (from pandas!=2.1.0,>=1.4->statsmodels) (2.9.0.post0)\n",
      "Requirement already satisfied: pytz>=2020.1 in /home/codespace/.local/lib/python3.12/site-packages (from pandas!=2.1.0,>=1.4->statsmodels) (2025.2)\n",
      "Requirement already satisfied: tzdata>=2022.7 in /home/codespace/.local/lib/python3.12/site-packages (from pandas!=2.1.0,>=1.4->statsmodels) (2025.2)\n",
      "Requirement already satisfied: six>=1.5 in /home/codespace/.local/lib/python3.12/site-packages (from python-dateutil>=2.8.2->pandas!=2.1.0,>=1.4->statsmodels) (1.17.0)\n",
      "\n",
      "\u001b[1m[\u001b[0m\u001b[34;49mnotice\u001b[0m\u001b[1;39;49m]\u001b[0m\u001b[39;49m A new release of pip is available: \u001b[0m\u001b[31;49m25.1.1\u001b[0m\u001b[39;49m -> \u001b[0m\u001b[32;49m25.2\u001b[0m\n",
      "\u001b[1m[\u001b[0m\u001b[34;49mnotice\u001b[0m\u001b[1;39;49m]\u001b[0m\u001b[39;49m To update, run: \u001b[0m\u001b[32;49mpython3 -m pip install --upgrade pip\u001b[0m\n"
     ]
    }
   ],
   "source": [
    "import pandas as pd\n",
    "import numpy as np\n",
    "import matplotlib.pyplot as plt\n",
    "import seaborn as sns\n",
    "import plotly.express as px\n",
    "from sklearn.model_selection import train_test_split\n",
    "from sklearn.ensemble import RandomForestClassifier\n",
    "from sklearn.metrics import classification_report, confusion_matrix\n",
    "!pip install statsmodels\n",
    "from statsmodels.tsa.holtwinters import ExponentialSmoothing\n"
   ]
  },
  {
   "cell_type": "code",
   "execution_count": 3,
   "id": "940c23af-2ab2-4bda-9122-4c9156003dd5",
   "metadata": {},
   "outputs": [],
   "source": [
    "#Then, loading the datasets for data preparations, understanding my data, clean and visualzation"
   ]
  },
  {
   "cell_type": "code",
   "execution_count": 4,
   "id": "04312fdc-c22e-425b-949a-6105ebd2e99a",
   "metadata": {
    "scrolled": true
   },
   "outputs": [
    {
     "name": "stdout",
     "output_type": "stream",
     "text": [
      "South African Crime Stats:  \n",
      "        Province            Station                           Category  \\\n",
      "0  Western Cape  Cape Town Central  All theft not mentioned elsewhere   \n",
      "1       Gauteng        Jhb Central  All theft not mentioned elsewhere   \n",
      "2  Western Cape    Mitchells Plain  All theft not mentioned elsewhere   \n",
      "3    Free State          Park Road  All theft not mentioned elsewhere   \n",
      "4       Gauteng   Pretoria Central  All theft not mentioned elsewhere   \n",
      "\n",
      "   2005-2006  2006-2007  2007-2008  2008-2009  2009-2010  2010-2011  \\\n",
      "0       6692       6341       5966       5187       4985       5127   \n",
      "1       6093       4602       3761       3610       3267       3037   \n",
      "2       5341       6093       6316       6803       6035       5761   \n",
      "3       5108       4282       3834       3316       3101       3013   \n",
      "4       5099       4536       3309       2694       2616       2606   \n",
      "\n",
      "   2011-2012  2012-2013  2013-2014  2014-2015  2015-2016  \n",
      "0       5285       5937       5600       5335       5176  \n",
      "1       2886       2638       2809       3050       2434  \n",
      "2       6108       5514       4975       4043       3635  \n",
      "3       2679       3116       2927       2297       2103  \n",
      "4       2635       3226       3246       2892       3030  \n"
     ]
    },
    {
     "data": {
      "text/plain": [
       "(30861, 14)"
      ]
     },
     "execution_count": 4,
     "metadata": {},
     "output_type": "execute_result"
    }
   ],
   "source": [
    "df = pd.read_csv('SACrimeStats_v2.csv')\n",
    "print(\"South African Crime Stats: \", \"\\n\", df.head())\n",
    "df.describe\n",
    "df.shape"
   ]
  },
  {
   "cell_type": "code",
   "execution_count": 5,
   "id": "c2c83eb2-b61d-464e-8140-f8b400385646",
   "metadata": {},
   "outputs": [
    {
     "name": "stdout",
     "output_type": "stream",
     "text": [
      "Province Population Table: \n",
      "         Province  Population    Area  Density\n",
      "0        Gauteng    12272263   18178    675.1\n",
      "1  Kwazulu/Natal    10267300   94361    108.8\n",
      "2     Mpumalanga     4039939   76495     52.8\n",
      "3   Western Cape     5822734  129462     45.0\n",
      "4        Limpopo     5404868  125755     43.0\n"
     ]
    },
    {
     "data": {
      "text/plain": [
       "(30861, 14)"
      ]
     },
     "execution_count": 5,
     "metadata": {},
     "output_type": "execute_result"
    }
   ],
   "source": [
    "df2 = pd.read_csv('ProPopulation.csv')\n",
    "print(\"Province Population Table:\", \"\\n\", df2.head())\n",
    "df.shape"
   ]
  },
  {
   "cell_type": "code",
   "execution_count": 6,
   "id": "0b60d1b1-7aff-4d65-b937-893c5dc69929",
   "metadata": {},
   "outputs": [],
   "source": [
    "#For selecting which columns to keep, and adding 2 columns"
   ]
  },
  {
   "cell_type": "code",
   "execution_count": 7,
   "id": "760978cc-e9fe-4b44-8743-d6464a1ef4eb",
   "metadata": {},
   "outputs": [
    {
     "data": {
      "text/plain": [
       "<bound method NDFrame.head of             Province            Station                           Category  \\\n",
       "0       Western Cape  Cape Town Central  All theft not mentioned elsewhere   \n",
       "1            Gauteng        Jhb Central  All theft not mentioned elsewhere   \n",
       "2       Western Cape    Mitchells Plain  All theft not mentioned elsewhere   \n",
       "3         Free State          Park Road  All theft not mentioned elsewhere   \n",
       "4            Gauteng   Pretoria Central  All theft not mentioned elsewhere   \n",
       "...              ...                ...                                ...   \n",
       "339466  Western Cape             Belhar  All theft not mentioned elsewhere   \n",
       "339467       Gauteng         Moffatview  All theft not mentioned elsewhere   \n",
       "339468  Western Cape             Belhar                 Drug-related crime   \n",
       "339469  Western Cape          Lentegeur  All theft not mentioned elsewhere   \n",
       "339470  Western Cape          Lentegeur                 Drug-related crime   \n",
       "\n",
       "             Year  CrimeCount  \n",
       "0       2005-2006        6692  \n",
       "1       2005-2006        6093  \n",
       "2       2005-2006        5341  \n",
       "3       2005-2006        5108  \n",
       "4       2005-2006        5099  \n",
       "...           ...         ...  \n",
       "339466  2015-2016         829  \n",
       "339467  2015-2016         991  \n",
       "339468  2015-2016        1401  \n",
       "339469  2015-2016        1989  \n",
       "339470  2015-2016        2050  \n",
       "\n",
       "[339471 rows x 5 columns]>"
      ]
     },
     "execution_count": 7,
     "metadata": {},
     "output_type": "execute_result"
    }
   ],
   "source": [
    "crime = df.melt(\n",
    "   id_vars = [\"Province\", \"Station\", \"Category\"],\n",
    "    var_name = \"Year\",\n",
    "    value_name =  \"CrimeCount\"\n",
    ")\n",
    "crime.head"
   ]
  },
  {
   "cell_type": "code",
   "execution_count": 8,
   "id": "99ec13d4-995a-4976-9e6f-7c9ddee39add",
   "metadata": {},
   "outputs": [
    {
     "data": {
      "text/plain": [
       "<bound method NDFrame.describe of             Province            Station                           Category  \\\n",
       "0       Western Cape  Cape Town Central  All theft not mentioned elsewhere   \n",
       "1            Gauteng        Jhb Central  All theft not mentioned elsewhere   \n",
       "2       Western Cape    Mitchells Plain  All theft not mentioned elsewhere   \n",
       "3         Free State          Park Road  All theft not mentioned elsewhere   \n",
       "4            Gauteng   Pretoria Central  All theft not mentioned elsewhere   \n",
       "...              ...                ...                                ...   \n",
       "339466  Western Cape             Belhar  All theft not mentioned elsewhere   \n",
       "339467       Gauteng         Moffatview  All theft not mentioned elsewhere   \n",
       "339468  Western Cape             Belhar                 Drug-related crime   \n",
       "339469  Western Cape          Lentegeur  All theft not mentioned elsewhere   \n",
       "339470  Western Cape          Lentegeur                 Drug-related crime   \n",
       "\n",
       "        Year  CrimeCount  \n",
       "0       2005        6692  \n",
       "1       2005        6093  \n",
       "2       2005        5341  \n",
       "3       2005        5108  \n",
       "4       2005        5099  \n",
       "...      ...         ...  \n",
       "339466  2015         829  \n",
       "339467  2015         991  \n",
       "339468  2015        1401  \n",
       "339469  2015        1989  \n",
       "339470  2015        2050  \n",
       "\n",
       "[339471 rows x 5 columns]>"
      ]
     },
     "execution_count": 8,
     "metadata": {},
     "output_type": "execute_result"
    }
   ],
   "source": [
    "crime[\"Year\"] = crime[\"Year\"].str.split(\"-\").str[0].astype(int)\n",
    "crime.describe"
   ]
  },
  {
   "cell_type": "code",
   "execution_count": 9,
   "id": "a953a947-ee59-4d56-aa8c-8f2a57a85df5",
   "metadata": {},
   "outputs": [
    {
     "data": {
      "text/html": [
       "<div>\n",
       "<style scoped>\n",
       "    .dataframe tbody tr th:only-of-type {\n",
       "        vertical-align: middle;\n",
       "    }\n",
       "\n",
       "    .dataframe tbody tr th {\n",
       "        vertical-align: top;\n",
       "    }\n",
       "\n",
       "    .dataframe thead th {\n",
       "        text-align: right;\n",
       "    }\n",
       "</style>\n",
       "<table border=\"1\" class=\"dataframe\">\n",
       "  <thead>\n",
       "    <tr style=\"text-align: right;\">\n",
       "      <th></th>\n",
       "      <th>Province</th>\n",
       "      <th>Station</th>\n",
       "      <th>Category</th>\n",
       "      <th>Year</th>\n",
       "      <th>CrimeCount</th>\n",
       "      <th>Population</th>\n",
       "      <th>Area</th>\n",
       "      <th>Density</th>\n",
       "      <th>CrimeRate_per100k</th>\n",
       "    </tr>\n",
       "  </thead>\n",
       "  <tbody>\n",
       "    <tr>\n",
       "      <th>0</th>\n",
       "      <td>Western Cape</td>\n",
       "      <td>Cape Town Central</td>\n",
       "      <td>All theft not mentioned elsewhere</td>\n",
       "      <td>2005</td>\n",
       "      <td>6692</td>\n",
       "      <td>5822734</td>\n",
       "      <td>129462</td>\n",
       "      <td>45.0</td>\n",
       "      <td>114.928829</td>\n",
       "    </tr>\n",
       "    <tr>\n",
       "      <th>1</th>\n",
       "      <td>Gauteng</td>\n",
       "      <td>Jhb Central</td>\n",
       "      <td>All theft not mentioned elsewhere</td>\n",
       "      <td>2005</td>\n",
       "      <td>6093</td>\n",
       "      <td>12272263</td>\n",
       "      <td>18178</td>\n",
       "      <td>675.1</td>\n",
       "      <td>49.648545</td>\n",
       "    </tr>\n",
       "    <tr>\n",
       "      <th>2</th>\n",
       "      <td>Western Cape</td>\n",
       "      <td>Mitchells Plain</td>\n",
       "      <td>All theft not mentioned elsewhere</td>\n",
       "      <td>2005</td>\n",
       "      <td>5341</td>\n",
       "      <td>5822734</td>\n",
       "      <td>129462</td>\n",
       "      <td>45.0</td>\n",
       "      <td>91.726670</td>\n",
       "    </tr>\n",
       "    <tr>\n",
       "      <th>3</th>\n",
       "      <td>Free State</td>\n",
       "      <td>Park Road</td>\n",
       "      <td>All theft not mentioned elsewhere</td>\n",
       "      <td>2005</td>\n",
       "      <td>5108</td>\n",
       "      <td>2745590</td>\n",
       "      <td>129825</td>\n",
       "      <td>21.1</td>\n",
       "      <td>186.043801</td>\n",
       "    </tr>\n",
       "    <tr>\n",
       "      <th>4</th>\n",
       "      <td>Gauteng</td>\n",
       "      <td>Pretoria Central</td>\n",
       "      <td>All theft not mentioned elsewhere</td>\n",
       "      <td>2005</td>\n",
       "      <td>5099</td>\n",
       "      <td>12272263</td>\n",
       "      <td>18178</td>\n",
       "      <td>675.1</td>\n",
       "      <td>41.548979</td>\n",
       "    </tr>\n",
       "    <tr>\n",
       "      <th>5</th>\n",
       "      <td>North West</td>\n",
       "      <td>Rustenburg</td>\n",
       "      <td>All theft not mentioned elsewhere</td>\n",
       "      <td>2005</td>\n",
       "      <td>4239</td>\n",
       "      <td>3509953</td>\n",
       "      <td>104882</td>\n",
       "      <td>33.5</td>\n",
       "      <td>120.770848</td>\n",
       "    </tr>\n",
       "    <tr>\n",
       "      <th>6</th>\n",
       "      <td>Kwazulu/Natal</td>\n",
       "      <td>Durban Central</td>\n",
       "      <td>All theft not mentioned elsewhere</td>\n",
       "      <td>2005</td>\n",
       "      <td>4162</td>\n",
       "      <td>10267300</td>\n",
       "      <td>94361</td>\n",
       "      <td>108.8</td>\n",
       "      <td>40.536460</td>\n",
       "    </tr>\n",
       "    <tr>\n",
       "      <th>7</th>\n",
       "      <td>Gauteng</td>\n",
       "      <td>Brooklyn</td>\n",
       "      <td>All theft not mentioned elsewhere</td>\n",
       "      <td>2005</td>\n",
       "      <td>3931</td>\n",
       "      <td>12272263</td>\n",
       "      <td>18178</td>\n",
       "      <td>675.1</td>\n",
       "      <td>32.031582</td>\n",
       "    </tr>\n",
       "    <tr>\n",
       "      <th>8</th>\n",
       "      <td>Gauteng</td>\n",
       "      <td>Booysens</td>\n",
       "      <td>All theft not mentioned elsewhere</td>\n",
       "      <td>2005</td>\n",
       "      <td>3681</td>\n",
       "      <td>12272263</td>\n",
       "      <td>18178</td>\n",
       "      <td>675.1</td>\n",
       "      <td>29.994468</td>\n",
       "    </tr>\n",
       "    <tr>\n",
       "      <th>9</th>\n",
       "      <td>Gauteng</td>\n",
       "      <td>Hillbrow</td>\n",
       "      <td>All theft not mentioned elsewhere</td>\n",
       "      <td>2005</td>\n",
       "      <td>3489</td>\n",
       "      <td>12272263</td>\n",
       "      <td>18178</td>\n",
       "      <td>675.1</td>\n",
       "      <td>28.429964</td>\n",
       "    </tr>\n",
       "  </tbody>\n",
       "</table>\n",
       "</div>"
      ],
      "text/plain": [
       "        Province            Station                           Category  Year  \\\n",
       "0   Western Cape  Cape Town Central  All theft not mentioned elsewhere  2005   \n",
       "1        Gauteng        Jhb Central  All theft not mentioned elsewhere  2005   \n",
       "2   Western Cape    Mitchells Plain  All theft not mentioned elsewhere  2005   \n",
       "3     Free State          Park Road  All theft not mentioned elsewhere  2005   \n",
       "4        Gauteng   Pretoria Central  All theft not mentioned elsewhere  2005   \n",
       "5     North West         Rustenburg  All theft not mentioned elsewhere  2005   \n",
       "6  Kwazulu/Natal     Durban Central  All theft not mentioned elsewhere  2005   \n",
       "7        Gauteng           Brooklyn  All theft not mentioned elsewhere  2005   \n",
       "8        Gauteng           Booysens  All theft not mentioned elsewhere  2005   \n",
       "9        Gauteng           Hillbrow  All theft not mentioned elsewhere  2005   \n",
       "\n",
       "   CrimeCount  Population    Area  Density  CrimeRate_per100k  \n",
       "0        6692     5822734  129462     45.0         114.928829  \n",
       "1        6093    12272263   18178    675.1          49.648545  \n",
       "2        5341     5822734  129462     45.0          91.726670  \n",
       "3        5108     2745590  129825     21.1         186.043801  \n",
       "4        5099    12272263   18178    675.1          41.548979  \n",
       "5        4239     3509953  104882     33.5         120.770848  \n",
       "6        4162    10267300   94361    108.8          40.536460  \n",
       "7        3931    12272263   18178    675.1          32.031582  \n",
       "8        3681    12272263   18178    675.1          29.994468  \n",
       "9        3489    12272263   18178    675.1          28.429964  "
      ]
     },
     "execution_count": 9,
     "metadata": {},
     "output_type": "execute_result"
    }
   ],
   "source": [
    "crimeDF = crime.merge(df2, on=\"Province\", how=\"left\")\n",
    "crimeDF[\"CrimeRate_per100k\"] = (\n",
    "    (crimeDF[\"CrimeCount\"] / crimeDF[\"Population\"]) * 100000\n",
    ")\n",
    "crimeDF.head(10)"
   ]
  },
  {
   "cell_type": "code",
   "execution_count": 10,
   "id": "f09c2161-8a8f-44fe-90bc-9e96ca10d968",
   "metadata": {},
   "outputs": [
    {
     "data": {
      "text/html": [
       "<div>\n",
       "<style scoped>\n",
       "    .dataframe tbody tr th:only-of-type {\n",
       "        vertical-align: middle;\n",
       "    }\n",
       "\n",
       "    .dataframe tbody tr th {\n",
       "        vertical-align: top;\n",
       "    }\n",
       "\n",
       "    .dataframe thead th {\n",
       "        text-align: right;\n",
       "    }\n",
       "</style>\n",
       "<table border=\"1\" class=\"dataframe\">\n",
       "  <thead>\n",
       "    <tr style=\"text-align: right;\">\n",
       "      <th></th>\n",
       "      <th>Province</th>\n",
       "      <th>Station</th>\n",
       "      <th>Category</th>\n",
       "      <th>Year</th>\n",
       "      <th>CrimeCount</th>\n",
       "      <th>Population</th>\n",
       "      <th>Area</th>\n",
       "      <th>Density</th>\n",
       "      <th>CrimeRate_per100k</th>\n",
       "    </tr>\n",
       "  </thead>\n",
       "  <tbody>\n",
       "    <tr>\n",
       "      <th>0</th>\n",
       "      <td>Western Cape</td>\n",
       "      <td>Cape Town Central</td>\n",
       "      <td>All theft not mentioned elsewhere</td>\n",
       "      <td>2005</td>\n",
       "      <td>6692</td>\n",
       "      <td>5822734</td>\n",
       "      <td>129462</td>\n",
       "      <td>45.0</td>\n",
       "      <td>114.928829</td>\n",
       "    </tr>\n",
       "    <tr>\n",
       "      <th>1</th>\n",
       "      <td>Gauteng</td>\n",
       "      <td>Jhb Central</td>\n",
       "      <td>All theft not mentioned elsewhere</td>\n",
       "      <td>2005</td>\n",
       "      <td>6093</td>\n",
       "      <td>12272263</td>\n",
       "      <td>18178</td>\n",
       "      <td>675.1</td>\n",
       "      <td>49.648545</td>\n",
       "    </tr>\n",
       "    <tr>\n",
       "      <th>2</th>\n",
       "      <td>Western Cape</td>\n",
       "      <td>Mitchells Plain</td>\n",
       "      <td>All theft not mentioned elsewhere</td>\n",
       "      <td>2005</td>\n",
       "      <td>5341</td>\n",
       "      <td>5822734</td>\n",
       "      <td>129462</td>\n",
       "      <td>45.0</td>\n",
       "      <td>91.726670</td>\n",
       "    </tr>\n",
       "    <tr>\n",
       "      <th>3</th>\n",
       "      <td>Free State</td>\n",
       "      <td>Park Road</td>\n",
       "      <td>All theft not mentioned elsewhere</td>\n",
       "      <td>2005</td>\n",
       "      <td>5108</td>\n",
       "      <td>2745590</td>\n",
       "      <td>129825</td>\n",
       "      <td>21.1</td>\n",
       "      <td>186.043801</td>\n",
       "    </tr>\n",
       "    <tr>\n",
       "      <th>4</th>\n",
       "      <td>Gauteng</td>\n",
       "      <td>Pretoria Central</td>\n",
       "      <td>All theft not mentioned elsewhere</td>\n",
       "      <td>2005</td>\n",
       "      <td>5099</td>\n",
       "      <td>12272263</td>\n",
       "      <td>18178</td>\n",
       "      <td>675.1</td>\n",
       "      <td>41.548979</td>\n",
       "    </tr>\n",
       "    <tr>\n",
       "      <th>5</th>\n",
       "      <td>North West</td>\n",
       "      <td>Rustenburg</td>\n",
       "      <td>All theft not mentioned elsewhere</td>\n",
       "      <td>2005</td>\n",
       "      <td>4239</td>\n",
       "      <td>3509953</td>\n",
       "      <td>104882</td>\n",
       "      <td>33.5</td>\n",
       "      <td>120.770848</td>\n",
       "    </tr>\n",
       "    <tr>\n",
       "      <th>6</th>\n",
       "      <td>Kwazulu/Natal</td>\n",
       "      <td>Durban Central</td>\n",
       "      <td>All theft not mentioned elsewhere</td>\n",
       "      <td>2005</td>\n",
       "      <td>4162</td>\n",
       "      <td>10267300</td>\n",
       "      <td>94361</td>\n",
       "      <td>108.8</td>\n",
       "      <td>40.536460</td>\n",
       "    </tr>\n",
       "    <tr>\n",
       "      <th>7</th>\n",
       "      <td>Gauteng</td>\n",
       "      <td>Brooklyn</td>\n",
       "      <td>All theft not mentioned elsewhere</td>\n",
       "      <td>2005</td>\n",
       "      <td>3931</td>\n",
       "      <td>12272263</td>\n",
       "      <td>18178</td>\n",
       "      <td>675.1</td>\n",
       "      <td>32.031582</td>\n",
       "    </tr>\n",
       "    <tr>\n",
       "      <th>8</th>\n",
       "      <td>Gauteng</td>\n",
       "      <td>Booysens</td>\n",
       "      <td>All theft not mentioned elsewhere</td>\n",
       "      <td>2005</td>\n",
       "      <td>3681</td>\n",
       "      <td>12272263</td>\n",
       "      <td>18178</td>\n",
       "      <td>675.1</td>\n",
       "      <td>29.994468</td>\n",
       "    </tr>\n",
       "    <tr>\n",
       "      <th>9</th>\n",
       "      <td>Gauteng</td>\n",
       "      <td>Hillbrow</td>\n",
       "      <td>All theft not mentioned elsewhere</td>\n",
       "      <td>2005</td>\n",
       "      <td>3489</td>\n",
       "      <td>12272263</td>\n",
       "      <td>18178</td>\n",
       "      <td>675.1</td>\n",
       "      <td>28.429964</td>\n",
       "    </tr>\n",
       "  </tbody>\n",
       "</table>\n",
       "</div>"
      ],
      "text/plain": [
       "        Province            Station                           Category  Year  \\\n",
       "0   Western Cape  Cape Town Central  All theft not mentioned elsewhere  2005   \n",
       "1        Gauteng        Jhb Central  All theft not mentioned elsewhere  2005   \n",
       "2   Western Cape    Mitchells Plain  All theft not mentioned elsewhere  2005   \n",
       "3     Free State          Park Road  All theft not mentioned elsewhere  2005   \n",
       "4        Gauteng   Pretoria Central  All theft not mentioned elsewhere  2005   \n",
       "5     North West         Rustenburg  All theft not mentioned elsewhere  2005   \n",
       "6  Kwazulu/Natal     Durban Central  All theft not mentioned elsewhere  2005   \n",
       "7        Gauteng           Brooklyn  All theft not mentioned elsewhere  2005   \n",
       "8        Gauteng           Booysens  All theft not mentioned elsewhere  2005   \n",
       "9        Gauteng           Hillbrow  All theft not mentioned elsewhere  2005   \n",
       "\n",
       "   CrimeCount  Population    Area  Density  CrimeRate_per100k  \n",
       "0        6692     5822734  129462     45.0         114.928829  \n",
       "1        6093    12272263   18178    675.1          49.648545  \n",
       "2        5341     5822734  129462     45.0          91.726670  \n",
       "3        5108     2745590  129825     21.1         186.043801  \n",
       "4        5099    12272263   18178    675.1          41.548979  \n",
       "5        4239     3509953  104882     33.5         120.770848  \n",
       "6        4162    10267300   94361    108.8          40.536460  \n",
       "7        3931    12272263   18178    675.1          32.031582  \n",
       "8        3681    12272263   18178    675.1          29.994468  \n",
       "9        3489    12272263   18178    675.1          28.429964  "
      ]
     },
     "execution_count": 10,
     "metadata": {},
     "output_type": "execute_result"
    }
   ],
   "source": [
    "crimeDF = crimeDF.drop_duplicates()\n",
    "crimeDF.head(10)"
   ]
  },
  {
   "cell_type": "code",
   "execution_count": 11,
   "id": "21a2c0a8-24b5-454d-8c43-a5063ee01241",
   "metadata": {},
   "outputs": [
    {
     "data": {
      "text/plain": [
       "<bound method DataFrame.sum of         Province  Station  Category   Year  CrimeCount  Population   Area  \\\n",
       "0          False    False     False  False       False       False  False   \n",
       "1          False    False     False  False       False       False  False   \n",
       "2          False    False     False  False       False       False  False   \n",
       "3          False    False     False  False       False       False  False   \n",
       "4          False    False     False  False       False       False  False   \n",
       "...          ...      ...       ...    ...         ...         ...    ...   \n",
       "339466     False    False     False  False       False       False  False   \n",
       "339467     False    False     False  False       False       False  False   \n",
       "339468     False    False     False  False       False       False  False   \n",
       "339469     False    False     False  False       False       False  False   \n",
       "339470     False    False     False  False       False       False  False   \n",
       "\n",
       "        Density  CrimeRate_per100k  \n",
       "0         False              False  \n",
       "1         False              False  \n",
       "2         False              False  \n",
       "3         False              False  \n",
       "4         False              False  \n",
       "...         ...                ...  \n",
       "339466    False              False  \n",
       "339467    False              False  \n",
       "339468    False              False  \n",
       "339469    False              False  \n",
       "339470    False              False  \n",
       "\n",
       "[339471 rows x 9 columns]>"
      ]
     },
     "execution_count": 11,
     "metadata": {},
     "output_type": "execute_result"
    }
   ],
   "source": [
    "crimeDF.isnull().sum\n",
    "#crimeDF.info"
   ]
  },
  {
   "cell_type": "code",
   "execution_count": 12,
   "id": "3f4ff1d9-cc10-4cf6-b13b-f43137bc414d",
   "metadata": {},
   "outputs": [
    {
     "data": {
      "text/plain": [
       "<bound method DataFrame.info of             Province            Station                           Category  \\\n",
       "0       Western Cape  Cape Town Central  All theft not mentioned elsewhere   \n",
       "1            Gauteng        Jhb Central  All theft not mentioned elsewhere   \n",
       "2       Western Cape    Mitchells Plain  All theft not mentioned elsewhere   \n",
       "3         Free State          Park Road  All theft not mentioned elsewhere   \n",
       "4            Gauteng   Pretoria Central  All theft not mentioned elsewhere   \n",
       "...              ...                ...                                ...   \n",
       "339466  Western Cape             Belhar  All theft not mentioned elsewhere   \n",
       "339467       Gauteng         Moffatview  All theft not mentioned elsewhere   \n",
       "339468  Western Cape             Belhar                 Drug-related crime   \n",
       "339469  Western Cape          Lentegeur  All theft not mentioned elsewhere   \n",
       "339470  Western Cape          Lentegeur                 Drug-related crime   \n",
       "\n",
       "        Year  CrimeCount  Population    Area  Density  CrimeRate_per100k  \n",
       "0       2005        6692     5822734  129462     45.0         114.928829  \n",
       "1       2005        6093    12272263   18178    675.1          49.648545  \n",
       "2       2005        5341     5822734  129462     45.0          91.726670  \n",
       "3       2005        5108     2745590  129825     21.1         186.043801  \n",
       "4       2005        5099    12272263   18178    675.1          41.548979  \n",
       "...      ...         ...         ...     ...      ...                ...  \n",
       "339466  2015         829     5822734  129462     45.0          14.237298  \n",
       "339467  2015         991    12272263   18178    675.1           8.075120  \n",
       "339468  2015        1401     5822734  129462     45.0          24.060862  \n",
       "339469  2015        1989     5822734  129462     45.0          34.159211  \n",
       "339470  2015        2050     5822734  129462     45.0          35.206829  \n",
       "\n",
       "[339471 rows x 9 columns]>"
      ]
     },
     "execution_count": 12,
     "metadata": {},
     "output_type": "execute_result"
    }
   ],
   "source": [
    "crimeDF.info"
   ]
  },
  {
   "cell_type": "code",
   "execution_count": 13,
   "id": "f2cba600-08c0-48c5-8c0a-4867666d1152",
   "metadata": {},
   "outputs": [
    {
     "name": "stdout",
     "output_type": "stream",
     "text": [
      "✓ Master dataset created: (339471, 8)\n"
     ]
    }
   ],
   "source": [
    "def create_master_dataset():\n",
    "    master = crime.merge(df2, on=\"Province\", how=\"left\")\n",
    "    master.head(10)\n",
    "\n",
    "    print(f\"✓ Master dataset created: {master.shape}\")\n",
    "    return master\n",
    "\n",
    "masterDF = create_master_dataset()"
   ]
  },
  {
   "cell_type": "code",
   "execution_count": 14,
   "id": "75ef25ab-3974-45bb-bb4f-ee37e83967f6",
   "metadata": {},
   "outputs": [],
   "source": [
    "\n",
    "Year = [col for col in masterDF.columns if col.startswith(\"20\")]\n",
    "crime_counts = masterDF[Year].to_numpy()\n",
    "masterDF[\"CrimeCount\"] = masterDF[Year].sum(axis=1)\n",
    "crime_by_province = masterDF.groupby(\"Province\")[\"CrimeCount\"].sum().reset_index()\n"
   ]
  },
  {
   "cell_type": "code",
   "execution_count": 15,
   "id": "193fa371-8d1c-470c-9f6c-299623181b05",
   "metadata": {},
   "outputs": [
    {
     "data": {
      "image/png": "[encoded data removed]",
      "text/plain": [
       "<Figure size 1000x600 with 1 Axes>"
      ]
     },
     "metadata": {},
     "output_type": "display_data"
    }
   ],
   "source": [
    "\n",
    "\n",
    "plt.figure(figsize=(10,6))\n",
    "for CrimeCount in masterDF[\"CrimeCount\"].unique():\n",
    "    subset = crimeDF[crimeDF[\"CrimeCount\"] == CrimeCount]\n",
    "    plt.plot(subset[\"Population\"], subset[\"Population\"], marker=\"o\", label=CrimeCount)\n",
    "\n",
    "plt.title(\"Population vs Total Crime Count by Province\")\n",
    "plt.xlabel(\"Population\")\n",
    "plt.ylabel(\"CrimeCount\")\n",
    "plt.legend(title=\"Population\", bbox_to_anchor=(1.05, 1), loc=\"upper left\")\n",
    "plt.show()\n",
    "\n",
    "\n"
   ]
  },
  {
   "cell_type": "code",
   "execution_count": 16,
   "id": "962af560-a743-4b47-adbd-4f9ae910bd93",
   "metadata": {},
   "outputs": [
    {
     "data": {
      "image/png": "[encoded data removed]",
      "text/plain": [
       "<Figure size 1000x600 with 1 Axes>"
      ]
     },
     "metadata": {},
     "output_type": "display_data"
    }
   ],
   "source": [
    "\n",
    "# --- Histogram ---\n",
    "plt.figure(figsize=(10,6))\n",
    "crime_by_province.groupby(\"Province\")[\"CrimeCount\"].sum().sort_values().plot(kind=\"barh\")\n",
    "plt.title(\"Total Crime per Province\")\n",
    "plt.xlabel(\"CrimeCount\")\n",
    "plt.ylabel(\"Province\")\n",
    "plt.show()\n"
   ]
  },
  {
   "cell_type": "code",
   "execution_count": 17,
   "id": "317f8f47-288d-45e9-a888-f4ca83fd5239",
   "metadata": {},
   "outputs": [
    {
     "name": "stdout",
     "output_type": "stream",
     "text": [
      "Classification Report:\n",
      "               precision    recall  f1-score   support\n",
      "\n",
      "           0       1.00      1.00      1.00     63418\n",
      "           1       1.00      1.00      1.00     21450\n",
      "\n",
      "    accuracy                           1.00     84868\n",
      "   macro avg       1.00      1.00      1.00     84868\n",
      "weighted avg       1.00      1.00      1.00     84868\n",
      "\n",
      "Confusion Matrix:\n",
      " [[63418     0]\n",
      " [    0 21450]]\n"
     ]
    }
   ],
   "source": [
    "\n",
    "masterDF = crimeDF.copy()\n",
    "\n",
    "threshold = masterDF[\"CrimeCount\"].quantile(0.75)\n",
    "masterDF[\"Hotspot\"] = (masterDF[\"CrimeCount\"] >= threshold).astype(int)\n",
    "\n",
    "\n",
    "masterDF_encoded = pd.get_dummies(masterDF[[\"Province\", \"Category\"]], drop_first=True)\n",
    "\n",
    "X = pd.concat([masterDF_encoded, masterDF[[\"CrimeCount\", \"Year\", \"Population\", \"CrimeRate_per100k\"]]], axis=1)\n",
    "y = masterDF[\"Hotspot\"]\n",
    "\n",
    "# Train-test split\n",
    "X_train, X_test, y_train, y_test = train_test_split(X, y, test_size=0.25, random_state=42)\n",
    "\n",
    "# Train model\n",
    "clf = RandomForestClassifier(n_estimators=100, random_state=42)\n",
    "clf.fit(X_train, y_train)\n",
    "\n",
    "# Predict and evaluate\n",
    "y_pred = clf.predict(X_test)\n",
    "print(\"Classification Report:\\n\", classification_report(y_test, y_pred))\n",
    "print(\"Confusion Matrix:\\n\", confusion_matrix(y_test, y_pred))"
   ]
  },
  {
   "cell_type": "code",
   "execution_count": 18,
   "id": "26ec5c68-7ad2-4f45-8e83-f786277979ec",
   "metadata": {},
   "outputs": [
    {
     "name": "stdout",
     "output_type": "stream",
     "text": [
      "\n",
      "National Crime Forecast for the next 5 years:\n",
      "    Year  ForecastedCrimes\n",
      "11  2016      2.183811e+06\n",
      "12  2017      2.190207e+06\n",
      "13  2018      2.196604e+06\n",
      "14  2019      2.203001e+06\n",
      "15  2020      2.209397e+06\n"
     ]
    }
   ],
   "source": [
    "national_crime_ts = masterDF.groupby(\"Year\")[\"CrimeCount\"].sum().reset_index()\n",
    "national_crime_ts.columns = [\"Year\", \"CrimeCount\"]\n",
    "\n",
    "# Ensure 'Year' is sorted for time series\n",
    "national_crime_ts = national_crime_ts.sort_values(by=\"Year\")\n",
    "model = ExponentialSmoothing(national_crime_ts[\"CrimeCount\"], trend=\"add\", seasonal=None)\n",
    "fit = model.fit()\n",
    "\n",
    "# Forecast next 5 years\n",
    "last_year = national_crime_ts[\"Year\"].max()\n",
    "forecast_years = list(range(last_year + 1, last_year + 6))\n",
    "forecast_values = fit.forecast(steps=5)\n",
    "\n",
    "# Display forecast\n",
    "forecast_df = pd.DataFrame({\n",
    "    \"Year\": forecast_years,\n",
    "    \"ForecastedCrimes\": forecast_values\n",
    "})\n",
    "print(\"\\nNational Crime Forecast for the next 5 years:\")\n",
    "print(forecast_df)"
   ]
  },
  {
   "cell_type": "code",
   "execution_count": 21,
   "id": "b3ececd1-561f-459f-b3f5-b6ec4896ee95",
   "metadata": {},
   "outputs": [
    {
     "name": "stdout",
     "output_type": "stream",
     "text": [
      "1. I have to define the area of interest using coordinates(latitude, longitude) to define the bounderies of the regiom, like cities or provinces. Dividing the area into 1km x 1km grid cells using geospatial libraries for example, geopandas, shapely, or pyproj. 2. Then, i create the 3D Grid, by each grid cell representing a volume in space.  X and Y for horizontal dimensions(1kmx1km), Z for altitube levels(like, 0-120m for drone flight). This is represented as a 3D matrix or a list of grid cell objects with coordinates and altitude ranges.3. Now I Assign Crime Hotspots as POIs using the merged dataset masterDF to identify hotspots. Filter provinces or stations with higher CrimeCount. Map their locations to corresponding grid cells. For each POI can be tagged with: Coordinates, Crime type, Severity level, Recommended drone action (e.g., hover, scan, alert) To Simulate Drone Behavior I'd Use a simulation engine or custom logic to: Navigate drones through the grid. Prioritize POIs based on crime severity. Avoid restricted zones or low battery areas.\n"
     ]
    }
   ],
   "source": [
    "#Step-by-Step Design for a 3D Grid-Based Area\n",
    "print(\"1. I have to define the area of interest using coordinates(latitude, longitude) to define the bounderies of the regiom, like cities or provinces. Dividing the area into 1km x 1km grid cells using geospatial libraries for example, geopandas, shapely, or pyproj. 2. Then, i create the 3D Grid, by each grid cell representing a volume in space.  X and Y for horizontal dimensions(1kmx1km), Z for altitube levels(like, 0-120m for drone flight). This is represented as a 3D matrix or a list of grid cell objects with coordinates and altitude ranges.3. Now I Assign Crime Hotspots as POIs using the merged dataset masterDF to identify hotspots. Filter provinces or stations with higher CrimeCount. Map their locations to corresponding grid cells. For each POI can be tagged with: Coordinates, Crime type, Severity level, Recommended drone action (e.g., hover, scan, alert) To Simulate Drone Behavior I'd Use a simulation engine or custom logic to: Navigate drones through the grid. Prioritize POIs based on crime severity. Avoid restricted zones or low battery areas.\")\n",
    "\n",
    "\n",
    "\n"
   ]
  },
  {
   "cell_type": "code",
   "execution_count": null,
   "id": "b3169738-9513-4a86-823e-4e887e934c63",
   "metadata": {},
   "outputs": [],
   "source": []
  }
 ],
 "metadata": {
  "kernelspec": {
   "display_name": "Python 3 (ipykernel)",
   "language": "python",
   "name": "python3"
  },
  "language_info": {
   "codemirror_mode": {
    "name": "ipython",
    "version": 3
   },
   "file_extension": ".py",
   "mimetype": "text/x-python",
   "name": "python",
   "nbconvert_exporter": "python",
   "pygments_lexer": "ipython3",
   "version": "3.12.1"
  }
 },
 "nbformat": 4,
 "nbformat_minor": 5
}
